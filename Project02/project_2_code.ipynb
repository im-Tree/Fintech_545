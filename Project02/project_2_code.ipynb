{
 "cells": [
  {
   "cell_type": "code",
   "execution_count": 1,
   "metadata": {},
   "outputs": [],
   "source": [
    "import numpy as np\n",
    "import pandas as pd\n",
    "import scipy.stats as stats\n",
    "import matplotlib.pyplot as plt\n",
    "\n",
    "\n",
    "from scipy.stats import t, norm\n",
    "from scipy.linalg import cholesky\n",
    "from scipy.optimize import brentq"
   ]
  },
  {
   "cell_type": "markdown",
   "metadata": {},
   "source": [
    "# Problem 1"
   ]
  },
  {
   "cell_type": "code",
   "execution_count": 2,
   "metadata": {},
   "outputs": [
    {
     "data": {
      "text/html": [
       "<div>\n",
       "<style scoped>\n",
       "    .dataframe tbody tr th:only-of-type {\n",
       "        vertical-align: middle;\n",
       "    }\n",
       "\n",
       "    .dataframe tbody tr th {\n",
       "        vertical-align: top;\n",
       "    }\n",
       "\n",
       "    .dataframe thead th {\n",
       "        text-align: right;\n",
       "    }\n",
       "</style>\n",
       "<table border=\"1\" class=\"dataframe\">\n",
       "  <thead>\n",
       "    <tr style=\"text-align: right;\">\n",
       "      <th></th>\n",
       "      <th>SPY</th>\n",
       "      <th>AAPL</th>\n",
       "      <th>EQIX</th>\n",
       "    </tr>\n",
       "  </thead>\n",
       "  <tbody>\n",
       "    <tr>\n",
       "      <th>0</th>\n",
       "      <td>370.367920</td>\n",
       "      <td>123.768456</td>\n",
       "      <td>639.647766</td>\n",
       "    </tr>\n",
       "    <tr>\n",
       "      <th>1</th>\n",
       "      <td>373.227142</td>\n",
       "      <td>125.045052</td>\n",
       "      <td>656.679016</td>\n",
       "    </tr>\n",
       "    <tr>\n",
       "      <th>2</th>\n",
       "      <td>368.967438</td>\n",
       "      <td>123.718987</td>\n",
       "      <td>637.822998</td>\n",
       "    </tr>\n",
       "  </tbody>\n",
       "</table>\n",
       "</div>"
      ],
      "text/plain": [
       "          SPY        AAPL        EQIX\n",
       "0  370.367920  123.768456  639.647766\n",
       "1  373.227142  125.045052  656.679016\n",
       "2  368.967438  123.718987  637.822998"
      ]
     },
     "execution_count": 2,
     "metadata": {},
     "output_type": "execute_result"
    }
   ],
   "source": [
    "df_problem_1 = pd.read_csv('DailyPrices.csv')[['SPY', 'AAPL', 'EQIX']]\n",
    "df_problem_1.head(3)"
   ]
  },
  {
   "cell_type": "markdown",
   "metadata": {},
   "source": [
    "## 1A."
   ]
  },
  {
   "cell_type": "code",
   "execution_count": 3,
   "metadata": {},
   "outputs": [
    {
     "name": "stdout",
     "output_type": "stream",
     "text": [
      "last 5 rows:\n",
      "          SPY      AAPL      EQIX\n",
      "499 -0.011492 -0.014678 -0.006966\n",
      "500 -0.012377 -0.014699 -0.008064\n",
      "501 -0.004603 -0.008493  0.006512\n",
      "502 -0.003422 -0.027671  0.000497\n",
      "503  0.011538 -0.003445  0.015745\n",
      "\n",
      "\n",
      "total standard deviation:\n",
      "SPY     0.008077\n",
      "AAPL    0.013483\n",
      "EQIX    0.015361\n",
      "dtype: float64\n"
     ]
    }
   ],
   "source": [
    "df_arithmetic_return = pd.DataFrame()\n",
    "for stock in df_problem_1.columns:\n",
    "    arithmetic_return = df_problem_1[stock].pct_change().iloc[1:]\n",
    "    arithmetic_return_0_mean = arithmetic_return - np.mean(arithmetic_return)\n",
    "    df_arithmetic_return[stock] = arithmetic_return_0_mean\n",
    "\n",
    "print('last 5 rows:')\n",
    "print(df_arithmetic_return.tail(5))\n",
    "print('\\n')\n",
    "print('total standard deviation:')\n",
    "print(df_arithmetic_return.std())\n"
   ]
  },
  {
   "cell_type": "markdown",
   "metadata": {},
   "source": [
    "## 1B."
   ]
  },
  {
   "cell_type": "code",
   "execution_count": 4,
   "metadata": {},
   "outputs": [
    {
     "name": "stdout",
     "output_type": "stream",
     "text": [
      "last 5 rows:\n",
      "          SPY      AAPL      EQIX\n",
      "499 -0.011515 -0.014675 -0.006867\n",
      "500 -0.012410 -0.014696 -0.007972\n",
      "501 -0.004577 -0.008427  0.006602\n",
      "502 -0.003392 -0.027930  0.000613\n",
      "503  0.011494 -0.003356  0.015725\n",
      "\n",
      "\n",
      "total standard deviation:\n",
      "SPY     0.008078\n",
      "AAPL    0.013446\n",
      "EQIX    0.015270\n",
      "dtype: float64\n"
     ]
    }
   ],
   "source": [
    "df_log_return = pd.DataFrame()\n",
    "for stock in df_problem_1.columns:\n",
    "    log_return = np.log((df_problem_1[stock]/df_problem_1[stock].shift(1)).iloc[1:])\n",
    "    log_return_0_mean = log_return - np.mean(log_return)\n",
    "    df_log_return[stock] = log_return_0_mean\n",
    "\n",
    "print('last 5 rows:')\n",
    "print(df_log_return.tail(5))\n",
    "print('\\n')\n",
    "print('total standard deviation:')\n",
    "print(df_log_return.std())"
   ]
  },
  {
   "cell_type": "markdown",
   "metadata": {},
   "source": [
    "# Problem 2"
   ]
  },
  {
   "cell_type": "code",
   "execution_count": 5,
   "metadata": {},
   "outputs": [
    {
     "data": {
      "text/html": [
       "<div>\n",
       "<style scoped>\n",
       "    .dataframe tbody tr th:only-of-type {\n",
       "        vertical-align: middle;\n",
       "    }\n",
       "\n",
       "    .dataframe tbody tr th {\n",
       "        vertical-align: top;\n",
       "    }\n",
       "\n",
       "    .dataframe thead th {\n",
       "        text-align: right;\n",
       "    }\n",
       "</style>\n",
       "<table border=\"1\" class=\"dataframe\">\n",
       "  <thead>\n",
       "    <tr style=\"text-align: right;\">\n",
       "      <th></th>\n",
       "      <th>SPY</th>\n",
       "      <th>AAPL</th>\n",
       "      <th>EQIX</th>\n",
       "    </tr>\n",
       "    <tr>\n",
       "      <th>Date</th>\n",
       "      <th></th>\n",
       "      <th></th>\n",
       "      <th></th>\n",
       "    </tr>\n",
       "  </thead>\n",
       "  <tbody>\n",
       "    <tr>\n",
       "      <th>2023-01-03</th>\n",
       "      <td>370.367920</td>\n",
       "      <td>123.768456</td>\n",
       "      <td>639.647766</td>\n",
       "    </tr>\n",
       "    <tr>\n",
       "      <th>2023-01-04</th>\n",
       "      <td>373.227142</td>\n",
       "      <td>125.045052</td>\n",
       "      <td>656.679016</td>\n",
       "    </tr>\n",
       "    <tr>\n",
       "      <th>2023-01-05</th>\n",
       "      <td>368.967438</td>\n",
       "      <td>123.718987</td>\n",
       "      <td>637.822998</td>\n",
       "    </tr>\n",
       "  </tbody>\n",
       "</table>\n",
       "</div>"
      ],
      "text/plain": [
       "                   SPY        AAPL        EQIX\n",
       "Date                                          \n",
       "2023-01-03  370.367920  123.768456  639.647766\n",
       "2023-01-04  373.227142  125.045052  656.679016\n",
       "2023-01-05  368.967438  123.718987  637.822998"
      ]
     },
     "execution_count": 5,
     "metadata": {},
     "output_type": "execute_result"
    }
   ],
   "source": [
    "df_problem_2 = pd.read_csv('DailyPrices.csv')[['Date', 'SPY', 'AAPL', 'EQIX']]\n",
    "df_problem_2 = df_problem_2.set_index('Date')\n",
    "df_problem_2.head(3)"
   ]
  },
  {
   "cell_type": "markdown",
   "metadata": {},
   "source": [
    "## 2A."
   ]
  },
  {
   "cell_type": "code",
   "execution_count": 6,
   "metadata": {},
   "outputs": [
    {
     "name": "stdout",
     "output_type": "stream",
     "text": [
      "portfolio value at 1/3/2025: 251862.4969\n"
     ]
    }
   ],
   "source": [
    "# Portfolio holdings\n",
    "holdings = {\n",
    "    'SPY': 100,\n",
    "    'AAPL': 200,\n",
    "    'EQIX': 150\n",
    "}\n",
    "df_latest = df_problem_2.loc['2025-01-03']\n",
    "# Calculate portfolio value\n",
    "current_value = sum(holdings[stock] * price for stock, price in zip(holdings.keys(), df_latest))\n",
    "\n",
    "print(f'portfolio value at 1/3/2025: {current_value:.4f}')"
   ]
  },
  {
   "cell_type": "markdown",
   "metadata": {},
   "source": [
    "## 2B."
   ]
  },
  {
   "cell_type": "code",
   "execution_count": null,
   "metadata": {},
   "outputs": [
    {
     "name": "stdout",
     "output_type": "stream",
     "text": [
      "\\current price at 2025-01-03: $251,862.50\n"
     ]
    }
   ],
   "source": [
    "df = pd.read_csv('DailyPrices.csv')\n",
    "\n",
    "df['Date'] = pd.to_datetime(df['Date'])\n",
    "df.set_index('Date', inplace=True)\n",
    "df.sort_index(inplace=True)\n",
    "\n",
    "\n",
    "positions = {'SPY': 100, 'AAPL': 200, 'EQIX': 150}\n",
    "\n",
    "\n",
    "current_date = pd.Timestamp('2025-01-03')\n",
    "current_prices = df.loc[current_date, ['SPY', 'AAPL', 'EQIX']]\n",
    "\n",
    "\n",
    "\n",
    "portfolio_value = sum(positions[sym] * current_prices[sym] for sym in positions)\n",
    "print(\"current price at 2025-01-03: ${:,.2f}\".format(portfolio_value))\n",
    "\n",
    "\n",
    "\n",
    "returns = df[['SPY', 'AAPL', 'EQIX']].pct_change().dropna()\n",
    "# select data before 2025-01-03 to estimate\n",
    "returns = returns.loc[:(current_date - pd.Timedelta(days=1))]\n",
    "returns = returns - returns.mean()\n"
   ]
  },
  {
   "cell_type": "code",
   "execution_count": 8,
   "metadata": {},
   "outputs": [
    {
     "data": {
      "text/plain": [
       "6.946182603773344e-05"
      ]
     },
     "execution_count": 8,
     "metadata": {},
     "output_type": "execute_result"
    }
   ],
   "source": [
    "lambda_ = .97\n",
    "def populate_weights(n: int, lambda_factor: float):\n",
    "    \"\"\"calculate exponential weights\n",
    "\n",
    "    Args:\n",
    "        n (int): length of data\n",
    "        lambda_factor (float): decay factor λ between 0 an 1\n",
    "\n",
    "    Returns:\n",
    "        _type_: weight array, cumulative weight array\n",
    "    \"\"\"\n",
    "    w = np.zeros(n)  \n",
    "    cumulative_w = np.zeros(n)  \n",
    "    total_w = 0.0  \n",
    "\n",
    "    for i in range(n):\n",
    "        w[i] = (1 - lambda_factor) * lambda_factor ** (i + 1)\n",
    "        total_w += w[i]\n",
    "        cumulative_w[i] = total_w\n",
    "\n",
    "    w /= total_w\n",
    "    cumulative_w /= total_w\n",
    "\n",
    "    return w, cumulative_w\n",
    "\n",
    "\n",
    "def exponentially_weighted_covariance_matrix(df: pd.DataFrame, lambda_factor: float):\n",
    "    \"\"\"calculate exponentially weighted covariance matrix\n",
    "\n",
    "    Args:\n",
    "        df (pd.DataFrame): \n",
    "        lambda_factor (float): decay factor λ between 0 an 1\n",
    "\n",
    "    Returns:\n",
    "        _type_: exponentially weighted covariance matrix\n",
    "    \"\"\"\n",
    "    n = len(df)  \n",
    "    weights, _ = populate_weights(n, lambda_factor)  \n",
    "    weights = weights[::-1]  \n",
    "    df = df.loc[:, df.columns != \"Date\"]\n",
    "    means = (df.T * weights).sum(axis=1)  \n",
    "    \n",
    "    mean_centered = df - means  \n",
    "\n",
    "    variables = df.columns\n",
    "    cov_matrix = pd.DataFrame(index = variables, columns = variables, dtype = float)\n",
    "\n",
    "    for i in variables:\n",
    "        for j in variables:\n",
    "            cov_matrix.loc[i, j] = np.sum(weights * mean_centered[i] * mean_centered[j])\n",
    "\n",
    "    return cov_matrix\n",
    "exponentially_weighted_covariance_matrix(returns[['SPY']], .97)['SPY'].values[0]"
   ]
  },
  {
   "cell_type": "code",
   "execution_count": 9,
   "metadata": {},
   "outputs": [
    {
     "name": "stdout",
     "output_type": "stream",
     "text": [
      "\n",
      "a: Normally distributed with exponentially weighted covariance with lambda=0.97:\n",
      "SPY: VaR = $811.49, ES = $1,017.65\n",
      "AAPL: VaR = $958.43, ES = $1,201.91\n",
      "EQIX: VaR = $2,905.43, ES = $3,643.52\n",
      "Portfolio: VaR = $3,829.45, ES = $4,802.28\n"
     ]
    }
   ],
   "source": [
    "# a: Normally distributed with exponentially weighted covariance with lambda=0.97:\n",
    "\n",
    "lambda_ = 0.97\n",
    "ewma_sigma = {}\n",
    "\n",
    "for asset in ['SPY', 'AAPL', 'EQIX']:\n",
    "    asset_ewm_var = exponentially_weighted_covariance_matrix(returns[[asset]], .97)[asset].values[0]\n",
    "    ewma_sigma[asset] = np.sqrt(asset_ewm_var)\n",
    "\n",
    "\n",
    "def normal_var_es(sigma, alpha_level=0.05):\n",
    "\n",
    "    z = norm.ppf(alpha_level)\n",
    "    var = - z * sigma\n",
    "    # ES = sigma * [phi(z) / alpha_level]\n",
    "    es = sigma * (norm.pdf(z) / alpha_level)\n",
    "    return var, es\n",
    "\n",
    "var_es_a = {}\n",
    "for sym in positions:\n",
    "    current_value = positions[sym] * current_prices[sym]\n",
    "    var_pct, es_pct = normal_var_es(ewma_sigma[sym])\n",
    "    var_es_a[sym] = {'VaR': current_value * var_pct,\n",
    "                     'ES':  current_value * es_pct}\n",
    "    \n",
    "cov_matrix = exponentially_weighted_covariance_matrix(returns, .97).values\n",
    "V = np.array([positions[sym] * current_prices[sym] for sym in ['SPY', 'AAPL', 'EQIX']])\n",
    "portfolio_variance = np.dot(V, np.dot(cov_matrix, V))\n",
    "portfolio_sigma = np.sqrt(portfolio_variance)\n",
    "var_port_a, es_port_a = normal_var_es(portfolio_sigma)\n",
    "\n",
    "var_es_a['Portfolio'] = {'VaR': var_port_a, 'ES': es_port_a}\n",
    "\n",
    "print(\"\\na: Normally distributed with exponentially weighted covariance with lambda=0.97:\")\n",
    "for key, value in var_es_a.items():\n",
    "    print(\"{}: VaR = ${:,.2f}, ES = ${:,.2f}\".format(key, value['VaR'], value['ES']))\n"
   ]
  },
  {
   "cell_type": "code",
   "execution_count": null,
   "metadata": {},
   "outputs": [
    {
     "name": "stdout",
     "output_type": "stream",
     "text": [
      "\n",
      "b. T distribution using a Gaussian Copula\n",
      "SPY: VaR = $719.85, ES = $1,076.86\n",
      "AAPL: VaR = $989.02, ES = $1,489.89\n",
      "EQIX: VaR = $3,330.41, ES = $5,056.67\n",
      "Portfolio: VaR = $4,274.21, ES = $6,239.29\n"
     ]
    }
   ],
   "source": [
    "# b. T distribution using a Gaussian Copula\n",
    "\n",
    "nu = 4  \n",
    "N_sim = 100000  \n",
    "\n",
    "sample_std = returns.std()\n",
    "\n",
    "# T ~ t(df, scale), var = scale^2 * nu/(nu-2) (nu>2)\n",
    "# scale = sample_std * sqrt((nu-2)/nu)\n",
    "scale = sample_std * np.sqrt((nu - 2) / nu)\n",
    "\n",
    "corr_matrix = returns[['SPY', 'AAPL', 'EQIX']].corr()\n",
    "\n",
    "\n",
    "mean = np.zeros(3)\n",
    "sim_norm = np.random.multivariate_normal(mean, corr_matrix, size=N_sim)\n",
    "sim_uniform = norm.cdf(sim_norm)\n",
    "sim_t = np.empty_like(sim_uniform)\n",
    "for i, sym in enumerate(['SPY', 'AAPL', 'EQIX']):\n",
    "    sim_t[:, i] = t.ppf(sim_uniform[:, i], df=nu) * scale[sym]\n",
    "\n",
    "\n",
    "simulated_dollar_returns = {}\n",
    "var_es_b = {}\n",
    "\n",
    "for i, sym in enumerate(['SPY', 'AAPL', 'EQIX']):\n",
    "    current_val = positions[sym] * current_prices[sym]\n",
    "\n",
    "    dollar_returns = current_val * sim_t[:, i]\n",
    "    simulated_dollar_returns[sym] = dollar_returns\n",
    "    # VaR\n",
    "    var_val = - np.percentile(dollar_returns, 5)\n",
    "    # ES\n",
    "    es_val = - dollar_returns[dollar_returns <= np.percentile(dollar_returns, 5)].mean()\n",
    "    var_es_b[sym] = {'VaR': var_val, 'ES': es_val}\n",
    "\n",
    "# porfolio:\n",
    "portfolio_simulated_returns = np.sum(\n",
    "    np.column_stack([simulated_dollar_returns[sym] for sym in ['SPY', 'AAPL', 'EQIX']]),\n",
    "    axis=1\n",
    ")\n",
    "var_port_b = - np.percentile(portfolio_simulated_returns, 5)\n",
    "es_port_b = - portfolio_simulated_returns[portfolio_simulated_returns <= np.percentile(portfolio_simulated_returns, 5)].mean()\n",
    "var_es_b['Portfolio'] = {'VaR': var_port_b, 'ES': es_port_b}\n",
    "\n",
    "print(\"\\nb. T distribution using a Gaussian Copula\")\n",
    "for key, value in var_es_b.items():\n",
    "    print(\"{}: VaR = ${:,.2f}, ES = ${:,.2f}\".format(key, value['VaR'], value['ES']))\n"
   ]
  },
  {
   "cell_type": "code",
   "execution_count": 11,
   "metadata": {},
   "outputs": [
    {
     "name": "stdout",
     "output_type": "stream",
     "text": [
      "\n",
      "c. Historic simulation using the full history: \n",
      "SPY: VaR = $871.06, ES = $1,078.74\n",
      "AAPL: VaR = $1,068.56, ES = $1,438.12\n",
      "EQIX: VaR = $3,638.52, ES = $4,710.38\n",
      "Portfolio: VaR = $4,570.61, ES = $6,053.84\n"
     ]
    }
   ],
   "source": [
    "# c. Historic simulation using the full history.\n",
    "\n",
    "var_es_c = {}\n",
    "\n",
    "for sym in ['SPY', 'AAPL', 'EQIX']:\n",
    "    current_val = positions[sym] * current_prices[sym]\n",
    "    var_val_return = - np.percentile(returns[sym], 5)\n",
    "    es_val_return = - returns[sym][returns[sym] <= np.percentile(returns[sym], 5)].mean()\n",
    "    var_val = var_val_return * current_val\n",
    "    es_val = es_val_return * current_val\n",
    "    var_es_c[sym] = {'VaR': var_val, 'ES': es_val}\n",
    "\n",
    "# portfolio\n",
    "portfolio_dollar_returns = (positions['SPY'] * current_prices['SPY'] * returns['SPY'] +\n",
    "                            positions['AAPL'] * current_prices['AAPL'] * returns['AAPL'] +\n",
    "                            positions['EQIX'] * current_prices['EQIX'] * returns['EQIX']).values\n",
    "var_port_c = - np.percentile(portfolio_dollar_returns, 5)\n",
    "es_port_c = - portfolio_dollar_returns[portfolio_dollar_returns <= np.percentile(portfolio_dollar_returns, 5)].mean()\n",
    "var_es_c['Portfolio'] = {'VaR': var_port_c, 'ES': es_port_c}\n",
    "\n",
    "print(\"\\nc. Historic simulation using the full history: \")\n",
    "for key, value in var_es_c.items():\n",
    "    print(f\"{key}: VaR = ${value['VaR']:,.2f}, ES = ${value['ES']:,.2f}\")\n"
   ]
  },
  {
   "cell_type": "markdown",
   "metadata": {},
   "source": [
    "# Problem 3"
   ]
  },
  {
   "cell_type": "markdown",
   "metadata": {},
   "source": [
    "## 3A."
   ]
  },
  {
   "cell_type": "code",
   "execution_count": 12,
   "metadata": {},
   "outputs": [
    {
     "name": "stdout",
     "output_type": "stream",
     "text": [
      "implied volatility: 0.3351\n"
     ]
    }
   ],
   "source": [
    "def black_scholes_call(S, K, T, r, sigma):\n",
    "    d1 = (np.log(S / K) + (r + 0.5 * sigma ** 2) * T) / (sigma * np.sqrt(T))\n",
    "    d2 = d1 - sigma * np.sqrt(T)\n",
    "    \n",
    "    call_price = (S * stats.norm.cdf(d1) - K * np.exp(-r * T) * stats.norm.cdf(d2))\n",
    "    return call_price\n",
    "\n",
    "def implied_volatility(call_price, S, K, T, r):\n",
    "    def objective_function(sigma):\n",
    "        return black_scholes_call(S, K, T, r, sigma) - call_price\n",
    "    \n",
    "    return brentq(objective_function, 0.01, 2.0)  \n",
    "\n",
    "S = 31  \n",
    "K = 30   \n",
    "T = 0.25 \n",
    "r = 0.10 \n",
    "call_price = 3.00  \n",
    "\n",
    "iv = implied_volatility(call_price, S, K, T, r)\n",
    "print(f\"implied volatility: {iv:.4f}\")\n"
   ]
  },
  {
   "cell_type": "markdown",
   "metadata": {},
   "source": [
    "## 3B."
   ]
  },
  {
   "cell_type": "code",
   "execution_count": 13,
   "metadata": {},
   "outputs": [
    {
     "data": {
      "text/plain": [
       "(0.6659, 5.6407, -5.5446, 0.0564)"
      ]
     },
     "execution_count": 13,
     "metadata": {},
     "output_type": "execute_result"
    }
   ],
   "source": [
    "d1 = (np.log(S / K) + (r + 0.5 * iv ** 2) * T) / (iv * np.sqrt(T))\n",
    "d2 = d1 - iv * np.sqrt(T)\n",
    "\n",
    "# Compute Greeks\n",
    "delta_call = stats.norm.cdf(d1)\n",
    "vega_call = S * np.sqrt(T) * stats.norm.pdf(d1)\n",
    "theta_call = (-1 * S * stats.norm.pdf(d1) * iv) / (2 * np.sqrt(T)) - (r * K * np.exp(-r * T) * stats.norm.cdf(d2))\n",
    "\n",
    "# Compute change in option price when implied volatility increases by 1% (0.01)\n",
    "change_in_option_price = vega_call * 0.01 \n",
    "\n",
    "round(delta_call, 4), round(vega_call, 4), round(theta_call, 4), round(change_in_option_price, 4)"
   ]
  },
  {
   "cell_type": "code",
   "execution_count": 14,
   "metadata": {},
   "outputs": [
    {
     "data": {
      "text/plain": [
       "0.056498427517343686"
      ]
     },
     "execution_count": 14,
     "metadata": {},
     "output_type": "execute_result"
    }
   ],
   "source": [
    "black_scholes_call(S, K, T, r, iv + .01) - black_scholes_call(S, K, T, r, iv)"
   ]
  },
  {
   "cell_type": "markdown",
   "metadata": {},
   "source": [
    "## 3C."
   ]
  },
  {
   "cell_type": "code",
   "execution_count": 15,
   "metadata": {},
   "outputs": [
    {
     "name": "stdout",
     "output_type": "stream",
     "text": [
      "put option: 1.259297\n"
     ]
    }
   ],
   "source": [
    "def black_scholes_put(S, K, T, r, sigma):\n",
    "    d1 = (np.log(S / K) + (r + 0.5 * sigma ** 2) * T) / (sigma * np.sqrt(T))\n",
    "    d2 = d1 - sigma * np.sqrt(T)\n",
    "    \n",
    "    put_price = (K * np.exp(-r * T) * stats.norm.cdf(-d2) - S * stats.norm.cdf(-d1))\n",
    "    return put_price\n",
    "put_price = black_scholes_put(S, K, T, r, iv)\n",
    "print(f'put option: {put_price:4f}')"
   ]
  },
  {
   "cell_type": "markdown",
   "metadata": {},
   "source": [
    "## 3D."
   ]
  },
  {
   "cell_type": "code",
   "execution_count": 16,
   "metadata": {},
   "outputs": [
    {
     "data": {
      "text/html": [
       "<div>\n",
       "<style scoped>\n",
       "    .dataframe tbody tr th:only-of-type {\n",
       "        vertical-align: middle;\n",
       "    }\n",
       "\n",
       "    .dataframe tbody tr th {\n",
       "        vertical-align: top;\n",
       "    }\n",
       "\n",
       "    .dataframe thead th {\n",
       "        text-align: right;\n",
       "    }\n",
       "</style>\n",
       "<table border=\"1\" class=\"dataframe\">\n",
       "  <thead>\n",
       "    <tr style=\"text-align: right;\">\n",
       "      <th></th>\n",
       "      <th>Delta-Normal VaR</th>\n",
       "      <th>Monte Carlo VaR</th>\n",
       "      <th>Monte Carlo Expected Shortfall (ES)</th>\n",
       "    </tr>\n",
       "  </thead>\n",
       "  <tbody>\n",
       "    <tr>\n",
       "      <th>0</th>\n",
       "      <td>4.7548</td>\n",
       "      <td>4.305087</td>\n",
       "      <td>-0.309537</td>\n",
       "    </tr>\n",
       "  </tbody>\n",
       "</table>\n",
       "</div>"
      ],
      "text/plain": [
       "   Delta-Normal VaR  Monte Carlo VaR  Monte Carlo Expected Shortfall (ES)\n",
       "0            4.7548         4.305087                            -0.309537"
      ]
     },
     "execution_count": 16,
     "metadata": {},
     "output_type": "execute_result"
    }
   ],
   "source": [
    "# Given data for VaR and ES calculations\n",
    "annual_vol = 0.25  # Annual volatility of stock\n",
    "expected_annual_return = 0.00  # Expected annual return of stock\n",
    "trading_days_per_year = 255\n",
    "holding_period_days = 20  # Holding period\n",
    "alpha = 0.05  # Confidence level\n",
    "\n",
    "daily_vol = annual_vol / np.sqrt(trading_days_per_year)\n",
    "daily_return_mean = expected_annual_return / trading_days_per_year\n",
    "\n",
    "num_calls = 1\n",
    "num_puts = 1\n",
    "num_shares = 1\n",
    "\n",
    "# Compute portfolio Delta\n",
    "delta_put = -stats.norm.cdf(-d1)  # Delta of put option\n",
    "portfolio_delta = num_calls * delta_call + num_puts * delta_put + num_shares\n",
    "\n",
    "# Delta-Normal VaR\n",
    "portfolio_std = abs(portfolio_delta) * S * daily_vol * np.sqrt(holding_period_days)\n",
    "var_delta_normal = -stats.norm.ppf(alpha) * portfolio_std\n",
    "\n",
    "# Monte Carlo Simulation\n",
    "n_simulations = 100000\n",
    "simulated_returns = np.random.normal(daily_return_mean, daily_vol, (holding_period_days, n_simulations))\n",
    "simulated_prices = S * np.exp(simulated_returns.cumsum(axis=0))\n",
    "\n",
    "# Recompute portfolio value for each simulation\n",
    "simulated_call_values = np.maximum(simulated_prices[-1] - K, 0)\n",
    "simulated_put_values = np.maximum(K - simulated_prices[-1], 0)\n",
    "simulated_portfolio_values = (num_calls * simulated_call_values +\n",
    "                              num_puts * simulated_put_values +\n",
    "                              num_shares * simulated_prices[-1])\n",
    "\n",
    "# Compute portfolio losses\n",
    "initial_portfolio_value = num_calls * 3 + num_puts * put_price + num_shares * S\n",
    "portfolio_losses = initial_portfolio_value - simulated_portfolio_values\n",
    "\n",
    "# Calculate Monte Carlo VaR and Expected Shortfall (ES)\n",
    "var_mc = -np.percentile(portfolio_losses, alpha * 100)\n",
    "es_mc = -portfolio_losses[portfolio_losses <= var_mc].mean()\n",
    "\n",
    "# Display results\n",
    "var_es_results = {\n",
    "    \"Delta-Normal VaR\": var_delta_normal,\n",
    "    \"Monte Carlo VaR\": var_mc,\n",
    "    \"Monte Carlo Expected Shortfall (ES)\": es_mc\n",
    "}\n",
    "\n",
    "df_var_es = pd.DataFrame(var_es_results, index=[0])\n",
    "df_var_es"
   ]
  },
  {
   "cell_type": "markdown",
   "metadata": {},
   "source": [
    "## 4D."
   ]
  },
  {
   "cell_type": "code",
   "execution_count": 17,
   "metadata": {},
   "outputs": [
    {
     "name": "stdout",
     "output_type": "stream",
     "text": [
      "Initial portfolio value: $35.2593\n",
      "\n",
      "Delta Normal Approximation:\n",
      "VaR = $5.3951\n",
      "ES  = $6.6030\n"
     ]
    }
   ],
   "source": [
    "C_market = 3\n",
    "annual_vol_stock = 0.25\n",
    "trading_days = 255\n",
    "holding_days = 20\n",
    "dt = holding_days / trading_days  \n",
    "\n",
    "portfolio_initial = C_market + put_price + S\n",
    "print(\"Initial portfolio value: ${:.4f}\".format(portfolio_initial))\n",
    "\n",
    "# d. Delta Normal \n",
    "\n",
    "def bs_greeks_put(S, K, T, r, sigma):\n",
    "    d1 = (np.log(S/K) + (r + 0.5*sigma**2)*T)/(sigma*np.sqrt(T))\n",
    "    d2 = d1 - sigma*np.sqrt(T)\n",
    "    delta = norm.cdf(d1) - 1\n",
    "    theta = (-S * norm.pdf(d1)*sigma/(2*np.sqrt(T)) + r*K*np.exp(-r*T)*norm.cdf(-d2))\n",
    "    return delta, theta\n",
    "\n",
    "delta_put, theta_put = bs_greeks_put(S, K, T, r, iv)\n",
    "\n",
    "# stock: Delta=1, Theta=0\n",
    "portfolio_delta = delta_call + delta_put + 1\n",
    "portfolio_theta = theta_call + theta_put  \n",
    "\n",
    "\n",
    "sigma_stock_dt = annual_vol_stock * np.sqrt(dt)\n",
    "\n",
    "# dS ≈ S * sigma_stock_dt * z, z ~ N(0,1)\n",
    "# dP ≈ portfolio_delta * (S * sigma_stock_dt * z) + portfolio_theta * dt\n",
    "# mu_portfolio = portfolio_theta * dt\n",
    "# sigma_portfolio = portfolio_delta * S * sigma_stock_dt\n",
    "\n",
    "mu_port = portfolio_theta * dt\n",
    "sigma_port = portfolio_delta * S * sigma_stock_dt\n",
    "\n",
    "\n",
    "z_5 = norm.ppf(0.05)\n",
    "VaR_delta_normal = -(mu_port + sigma_port * z_5)\n",
    "ES_delta_normal = -mu_port + sigma_port * norm.pdf(z_5)/0.05\n",
    "\n",
    "print(\"\\nDelta Normal Approximation:\")\n",
    "print(\"VaR = ${:.4f}\".format(VaR_delta_normal))\n",
    "print(\"ES  = ${:.4f}\".format(ES_delta_normal))"
   ]
  },
  {
   "cell_type": "code",
   "execution_count": 18,
   "metadata": {},
   "outputs": [
    {
     "name": "stdout",
     "output_type": "stream",
     "text": [
      "\n",
      "Monte Carlo Simulation:\n",
      "VaR = $4.2599\n",
      "ES  = $4.7265\n"
     ]
    }
   ],
   "source": [
    "# e. Monte Carlo Simulation\n",
    "N_sim = 100000\n",
    "z = np.random.normal(0, 1, N_sim)\n",
    "S_sim = S + S * annual_vol_stock * np.sqrt(dt) * z  # simulate stock price after 20 days\n",
    "T_new = T - dt\n",
    "\n",
    "call_sim = np.array([black_scholes_call(s, K, T_new, r, iv) for s in S_sim])\n",
    "put_sim = np.array([black_scholes_put(s, K, T_new, r, iv) for s in S_sim])\n",
    "portfolio_sim = call_sim + put_sim + S_sim\n",
    "\n",
    "\n",
    "losses =  portfolio_sim- portfolio_initial\n",
    "\n",
    "VaR_MC = - np.percentile(losses, 5)\n",
    "ES_MC = - losses[losses <= - VaR_MC].mean()\n",
    "\n",
    "print(\"\\nMonte Carlo Simulation:\")\n",
    "print(\"VaR = ${:.4f}\".format(VaR_MC))\n",
    "print(\"ES  = ${:.4f}\".format(ES_MC))"
   ]
  },
  {
   "cell_type": "markdown",
   "metadata": {},
   "source": [
    "## 3E."
   ]
  },
  {
   "cell_type": "code",
   "execution_count": 19,
   "metadata": {},
   "outputs": [
    {
     "data": {
      "image/png": "[encoded data removed]",
      "text/plain": [
       "<Figure size 800x600 with 1 Axes>"
      ]
     },
     "metadata": {},
     "output_type": "display_data"
    }
   ],
   "source": [
    "S_range = np.linspace(20, 40, 200)\n",
    "portfolio_values = portfolio_initial + portfolio_delta * (S_range - S) + portfolio_theta * dt\n",
    "\n",
    "# Plot the Delta-Normal approximation line\n",
    "plt.figure(figsize=(8, 6))\n",
    "plt.plot(S_range, portfolio_values, label=\"Delta-Normal Approximation\", lw=2)\n",
    "plt.axvline(S, color='gray', linestyle='--', label=f\"Current Stock Price (${S:.2f})\")\n",
    "plt.axhline(portfolio_initial, color='red', linestyle='--', label=f\"Initial Portfolio Value (${portfolio_initial:.2f})\")\n",
    "plt.xlabel(\"Stock Price\")\n",
    "plt.ylabel(\"Portfolio Value\")\n",
    "plt.title(\"Portfolio Value vs. Stock Price (Delta-Normal Approximation)\")\n",
    "plt.legend()\n",
    "plt.grid(True)"
   ]
  },
  {
   "cell_type": "code",
   "execution_count": 20,
   "metadata": {},
   "outputs": [
    {
     "data": {
      "image/png": "[encoded data removed]",
      "text/plain": [
       "<Figure size 800x600 with 1 Axes>"
      ]
     },
     "metadata": {},
     "output_type": "display_data"
    }
   ],
   "source": [
    "\n",
    "plt.figure(figsize=(8,6))\n",
    "plt.scatter(S_sim, portfolio_sim, alpha=0.1, s=10)\n",
    "plt.xlabel(\"Stock Price after 20 days\")\n",
    "plt.ylabel(\"Portfolio Value after 20 days\")\n",
    "plt.title(\"Monte Carlo Simulation: Portfolio Value vs Stock Value\")\n",
    "plt.grid(True)\n",
    "plt.show()"
   ]
  }
 ],
 "metadata": {
  "kernelspec": {
   "display_name": "base",
   "language": "python",
   "name": "python3"
  },
  "language_info": {
   "codemirror_mode": {
    "name": "ipython",
    "version": 3
   },
   "file_extension": ".py",
   "mimetype": "text/x-python",
   "name": "python",
   "nbconvert_exporter": "python",
   "pygments_lexer": "ipython3",
   "version": "3.11.5"
  }
 },
 "nbformat": 4,
 "nbformat_minor": 2
}
